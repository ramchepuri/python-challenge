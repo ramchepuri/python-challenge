{
 "cells": [
  {
   "cell_type": "code",
   "execution_count": 1,
   "metadata": {},
   "outputs": [],
   "source": [
    "import pandas as pd \n",
    "import csv \n",
    "import re\n",
    "import os \n",
    "import sys"
   ]
  },
  {
   "cell_type": "code",
   "execution_count": 2,
   "metadata": {
    "scrolled": false
   },
   "outputs": [
    {
     "name": "stdout",
     "output_type": "stream",
     "text": [
      "What's name of the file you want to analyse? paragraph_1.txt\n"
     ]
    }
   ],
   "source": [
    "file_name = input(\"What's name of the file you want to analyse? \")\n",
    "boss_csv = os.path.join('../','raw_data',file_name)"
   ]
  },
  {
   "cell_type": "code",
   "execution_count": 3,
   "metadata": {},
   "outputs": [],
   "source": [
    "f = open(boss_csv, 'r')\n",
    "string = f.read()\n",
    "ltrcount = len(string)"
   ]
  },
  {
   "cell_type": "code",
   "execution_count": 4,
   "metadata": {},
   "outputs": [
    {
     "data": {
      "text/plain": [
       "132"
      ]
     },
     "execution_count": 4,
     "metadata": {},
     "output_type": "execute_result"
    }
   ],
   "source": [
    "wcount = len(re.findall(\"[a-zA-Z_]+\", string))\n",
    "wcount"
   ]
  },
  {
   "cell_type": "code",
   "execution_count": 5,
   "metadata": {
    "scrolled": true
   },
   "outputs": [],
   "source": [
    "sentences = re.split(r'[!?]+|(?<!\\.)\\.(?!\\.)', string.replace('\\n',''))\n",
    "sentences = sentences[:-1]\n",
    "sentence_count = len(sentences)"
   ]
  },
  {
   "cell_type": "code",
   "execution_count": 7,
   "metadata": {},
   "outputs": [],
   "source": [
    "avg_letter = ltrcount/wcount"
   ]
  },
  {
   "cell_type": "code",
   "execution_count": 9,
   "metadata": {
    "scrolled": false
   },
   "outputs": [],
   "source": [
    "avg_sen = wcount/sentence_count"
   ]
  },
  {
   "cell_type": "code",
   "execution_count": 10,
   "metadata": {},
   "outputs": [],
   "source": [
    "temp = sys.stdout\n",
    "sys.stdout = open('Output.txt', 'w')"
   ]
  },
  {
   "cell_type": "code",
   "execution_count": 11,
   "metadata": {},
   "outputs": [],
   "source": [
    "print(\"Approximate Word Count: \" + str(wcount)) \n",
    "print(\"Approximate Sentence Count:  \" + str(sentence_count))\n",
    "print(\"Average Letter Count:  \" + str(avg_letter)) \n",
    "print(\"Average Sentence Length: : \" + str(avg_sen))  "
   ]
  },
  {
   "cell_type": "code",
   "execution_count": 12,
   "metadata": {},
   "outputs": [],
   "source": [
    "sys.stdout.close()\n",
    "sys.stdout = temp"
   ]
  },
  {
   "cell_type": "code",
   "execution_count": 13,
   "metadata": {},
   "outputs": [
    {
     "name": "stdout",
     "output_type": "stream",
     "text": [
      "Approximate Word Count: 132\n",
      "Approximate Sentence Count:  5\n",
      "Average Letter Count:  7.2727272727272725\n",
      "Average Sentence Length: : 26.4\n"
     ]
    }
   ],
   "source": [
    "print(\"Approximate Word Count: \" + str(wcount)) \n",
    "print(\"Approximate Sentence Count:  \" + str(sentence_count))\n",
    "print(\"Average Letter Count:  \" + str(avg_letter)) \n",
    "print(\"Average Sentence Length: : \" + str(avg_sen))  "
   ]
  },
  {
   "cell_type": "code",
   "execution_count": null,
   "metadata": {},
   "outputs": [],
   "source": []
  }
 ],
 "metadata": {
  "kernelspec": {
   "display_name": "Python 3",
   "language": "python",
   "name": "python3"
  },
  "language_info": {
   "codemirror_mode": {
    "name": "ipython",
    "version": 3
   },
   "file_extension": ".py",
   "mimetype": "text/x-python",
   "name": "python",
   "nbconvert_exporter": "python",
   "pygments_lexer": "ipython3",
   "version": "3.6.4"
  }
 },
 "nbformat": 4,
 "nbformat_minor": 2
}
