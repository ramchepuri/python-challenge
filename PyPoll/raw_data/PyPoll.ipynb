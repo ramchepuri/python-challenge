{
 "cells": [
  {
   "cell_type": "code",
   "execution_count": null,
   "metadata": {},
   "outputs": [],
   "source": [
    "import pandas as pd \n",
    "import numpy\n",
    "import csv \n",
    "import os \n",
    "import sys"
   ]
  },
  {
   "cell_type": "code",
   "execution_count": null,
   "metadata": {},
   "outputs": [],
   "source": [
    "file_name = input(\"What's name of the file you want to analyse? \")\n",
    "poll_csv = os.path.join('../', 'raw_data',file_name)\n",
    "poll_df = pd.read_csv(poll_csv) \n",
    "poll_df.head()"
   ]
  },
  {
   "cell_type": "code",
   "execution_count": null,
   "metadata": {
    "scrolled": true
   },
   "outputs": [],
   "source": [
    "results_df = pd.DataFrame({\"Candidate\" :poll_df[\"Candidate\"].unique() , \"Total Votes\" : poll_df[\"Candidate\"].value_counts()})\n",
    "results_df"
   ]
  },
  {
   "cell_type": "code",
   "execution_count": null,
   "metadata": {
    "scrolled": true
   },
   "outputs": [],
   "source": [
    "results_df[\"Percent Vote\"] = round(results_df[\"Total Votes\"]/results_df[\"Total Votes\"].sum() *100,2)\n",
    "results_df.sort_values(\"Percent Vote\")"
   ]
  },
  {
   "cell_type": "code",
   "execution_count": null,
   "metadata": {},
   "outputs": [],
   "source": [
    "sys.stdout = open('Output_Results.txt', 'w') "
   ]
  },
  {
   "cell_type": "code",
   "execution_count": null,
   "metadata": {
    "scrolled": true
   },
   "outputs": [],
   "source": [
    "print (\"Election Results\")\n",
    "print(\"---------------------\")\n",
    "print(\"Total Votes : \" + str(results_df[\"Total Votes\"].sum()))\n",
    "print(\"---------------------\")\n",
    "i = 0\n",
    "for row in results_df:\n",
    "    print( str(results_df[\"Candidate\"][i]) + \" :\" + str(results_df[\"Percent Vote\"][i]) + \"%\" + \" (\" + str(results_df[\"Total Votes\"][i]) + \")\")\n",
    "    i = i+1\n",
    "print(\"---------------------\")\n",
    "print (\"Winner : \" + str(results_df[\"Candidate\"][0]))\n",
    "print(\"---------------------\")"
   ]
  },
  {
   "cell_type": "code",
   "execution_count": null,
   "metadata": {},
   "outputs": [],
   "source": [
    "sys.stdout.close()"
   ]
  }
 ],
 "metadata": {
  "kernelspec": {
   "display_name": "Python 3",
   "language": "python",
   "name": "python3"
  },
  "language_info": {
   "codemirror_mode": {
    "name": "ipython",
    "version": 3
   },
   "file_extension": ".py",
   "mimetype": "text/x-python",
   "name": "python",
   "nbconvert_exporter": "python",
   "pygments_lexer": "ipython3",
   "version": "3.6.4"
  }
 },
 "nbformat": 4,
 "nbformat_minor": 2
}
